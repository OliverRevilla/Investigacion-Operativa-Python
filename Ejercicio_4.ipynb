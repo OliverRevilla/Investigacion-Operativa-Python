{
  "nbformat": 4,
  "nbformat_minor": 0,
  "metadata": {
    "colab": {
      "name": "Ejercicio 4.ipynb",
      "provenance": []
    },
    "kernelspec": {
      "name": "python3",
      "display_name": "Python 3"
    }
  },
  "cells": [
    {
      "cell_type": "markdown",
      "metadata": {
        "id": "mBogrR2SkKBj"
      },
      "source": [
        "La compañía FERTIX fabrica y vende fertilizante de aplicación general. El fertilizante es elaborado en tres plantas distintas y envia el producto final a cuatro almacenes diferentes. Cada planta presenta costos y capacidades diferentes.\n",
        "\n",
        "Los requerimientos en los 4 almacenes son 300, 450, 500 y 600 tonaladas respectivamente. Los precios de venta del fertilizante en cada almacén son 62,63,64 65 UM respectivamente. Los costos de transporte desde las plantas a los almacenes son:\n",
        "\n",
        "PLantee un problema de programación lineal."
      ]
    },
    {
      "cell_type": "code",
      "metadata": {
        "id": "kw4nJ9AtmrDd",
        "colab": {
          "base_uri": "https://localhost:8080/"
        },
        "outputId": "4b458b35-d15c-484f-8c07-6b013c68c656"
      },
      "source": [
        "pip install pulp "
      ],
      "execution_count": null,
      "outputs": [
        {
          "output_type": "stream",
          "text": [
            "Collecting pulp\n",
            "\u001b[?25l  Downloading https://files.pythonhosted.org/packages/89/0c/6d80f5f81a92d1733cc5ca180491b8a3cd5839e335627a0046c81b7d3d3d/PuLP-2.3.1-py3-none-any.whl (40.6MB)\n",
            "\u001b[K     |████████████████████████████████| 40.6MB 110kB/s \n",
            "\u001b[?25hCollecting amply>=0.1.2\n",
            "  Downloading https://files.pythonhosted.org/packages/f3/c5/dfa09dd2595a2ab2ab4e6fa7bebef9565812722e1980d04b0edce5032066/amply-0.1.4-py3-none-any.whl\n",
            "Requirement already satisfied: docutils>=0.3 in /usr/local/lib/python3.6/dist-packages (from amply>=0.1.2->pulp) (0.16)\n",
            "Requirement already satisfied: pyparsing in /usr/local/lib/python3.6/dist-packages (from amply>=0.1.2->pulp) (2.4.7)\n",
            "Installing collected packages: amply, pulp\n",
            "Successfully installed amply-0.1.4 pulp-2.3.1\n"
          ],
          "name": "stdout"
        }
      ]
    },
    {
      "cell_type": "code",
      "metadata": {
        "id": "RH5h_qdEmzVO"
      },
      "source": [
        "from pulp import *"
      ],
      "execution_count": null,
      "outputs": []
    },
    {
      "cell_type": "code",
      "metadata": {
        "id": "okBjGeW-m5Xx"
      },
      "source": [
        "modelo = LpProblem(\"Problema4\",LpMinimize)"
      ],
      "execution_count": null,
      "outputs": []
    },
    {
      "cell_type": "markdown",
      "metadata": {
        "id": "8i5hnUN6nJnp"
      },
      "source": [
        "Definición de conjuntos"
      ]
    },
    {
      "cell_type": "code",
      "metadata": {
        "id": "XPadKXDEnAxN"
      },
      "source": [
        "Plantas = [\"Planta1\",\"Planta2\",\"Planta3\"] #Conjunto de plantas\n",
        "Almacenes = [\"Almacen1\",\"Almacen2\",\"Almacen3\",\"Almacen4\"] #Conjunto de almacenes\n",
        "Rutas = [(i,j) for i in Plantas for j in Almacenes]  #Genero este conjunto llamado rutas,que contenga lo pares i, j"
      ],
      "execution_count": null,
      "outputs": []
    },
    {
      "cell_type": "markdown",
      "metadata": {
        "id": "I7gWzsA3oF_F"
      },
      "source": [
        "Parámetros"
      ]
    },
    {
      "cell_type": "code",
      "metadata": {
        "id": "TXspzFurnfUE"
      },
      "source": [
        "CAP = {\"Planta1\":650,\"Planta2\":600, \"Planta3\":600} #Capacidad de procesamiento de la planta i\n",
        "CP = {\"Planta1\":38,\"Planta2\":45, \"Planta3\":30} # Costo de producción de la planta i\n",
        "REQ ={\"Almacen1\":300,\"Almacen2\":450,\"Almacen3\":500,\"Almacen4\":600} # Requerimiento del almacén j\n",
        "PV = {\"Almacen1\":62,\"Almacen2\":63,\"Almacen3\":64,\"Almacen4\":65} #Precio de venta del fertilizante en el almacén j\n",
        "CT = {\"Planta1\":{\"Almacen1\":23,\"Almacen2\":18,\"Almacen3\":21,\"Almacen4\":25},\n",
        "      \"Planta2\":{\"Almacen1\":21,\"Almacen2\":24,\"Almacen3\":23,\"Almacen4\":18},\n",
        "      \"Planta3\":{\"Almacen1\":18,\"Almacen2\":21,\"Almacen3\":27,\"Almacen4\":23}} # Coosto de transporte entre la planta i y el almacén j "
      ],
      "execution_count": null,
      "outputs": []
    },
    {
      "cell_type": "markdown",
      "metadata": {
        "id": "DUdskisWqiKK"
      },
      "source": [
        "Definición de variables"
      ]
    },
    {
      "cell_type": "code",
      "metadata": {
        "id": "IGdZwmA2qVSt"
      },
      "source": [
        "X = LpVariable.dicts(\"X\",(Plantas,Almacenes), lowBound = 0)"
      ],
      "execution_count": null,
      "outputs": []
    },
    {
      "cell_type": "markdown",
      "metadata": {
        "id": "Y-BEZXn1EUDB"
      },
      "source": [
        "Función objetivo"
      ]
    },
    {
      "cell_type": "code",
      "metadata": {
        "id": "JWaFikJrEVPR"
      },
      "source": [
        "modelo += lpSum( (PV[j]- CT[i][j]-CP[i])*X[i][j] for (i,j) in Rutas )"
      ],
      "execution_count": null,
      "outputs": []
    },
    {
      "cell_type": "markdown",
      "metadata": {
        "id": "NJrQNLPzFTnC"
      },
      "source": [
        "Restricciones"
      ]
    },
    {
      "cell_type": "code",
      "metadata": {
        "id": "0IyeddgjE7D4"
      },
      "source": [
        "for i in Plantas:\n",
        "  modelo += lpSum(X[i][j] for j in Almacenes) == CAP[i]\n",
        "for j in Almacenes:\n",
        "  modelo += lpSum(X[i][j] for i in Plantas) == REQ[j]\n"
      ],
      "execution_count": null,
      "outputs": []
    },
    {
      "cell_type": "code",
      "metadata": {
        "id": "eDiyns44FXSh",
        "colab": {
          "base_uri": "https://localhost:8080/",
          "height": 34
        },
        "outputId": "818dd30e-c8ce-443f-a4b0-10754da26c19"
      },
      "source": [
        "modelo.solve()\n"
      ],
      "execution_count": null,
      "outputs": [
        {
          "output_type": "execute_result",
          "data": {
            "text/plain": [
              "1"
            ]
          },
          "metadata": {
            "tags": []
          },
          "execution_count": 25
        }
      ]
    },
    {
      "cell_type": "markdown",
      "metadata": {
        "id": "DTfCf5znGtbH"
      },
      "source": [
        "Imprimir solución\n"
      ]
    },
    {
      "cell_type": "code",
      "metadata": {
        "id": "yoYJhmoGGsYO",
        "colab": {
          "base_uri": "https://localhost:8080/",
          "height": 119
        },
        "outputId": "b1b20658-5447-486a-b753-9a5fdbfc82b3"
      },
      "source": [
        "for v in modelo.variables():\n",
        "  if v.varValue > 0:\n",
        "    print(v.name, \"=\", v.varValue)\n"
      ],
      "execution_count": null,
      "outputs": [
        {
          "output_type": "stream",
          "text": [
            "X_Planta1_Almacen1 = 150.0\n",
            "X_Planta1_Almacen4 = 500.0\n",
            "X_Planta2_Almacen1 = 150.0\n",
            "X_Planta2_Almacen2 = 450.0\n",
            "X_Planta3_Almacen3 = 500.0\n",
            "X_Planta3_Almacen4 = 100.0\n"
          ],
          "name": "stdout"
        }
      ]
    },
    {
      "cell_type": "markdown",
      "metadata": {
        "id": "cU3Kn4otHdJY"
      },
      "source": [
        "Imprimir ganacia máxima"
      ]
    },
    {
      "cell_type": "code",
      "metadata": {
        "id": "Hbk6wNGnHczO",
        "colab": {
          "base_uri": "https://localhost:8080/",
          "height": 34
        },
        "outputId": "077316fb-0da2-420b-beaf-1933147dbc0e"
      },
      "source": [
        "print(\"Ganancia Total = \", value(modelo.objective))"
      ],
      "execution_count": null,
      "outputs": [
        {
          "output_type": "stream",
          "text": [
            "Ganancia Total =  2550.0\n"
          ],
          "name": "stdout"
        }
      ]
    },
    {
      "cell_type": "code",
      "metadata": {
        "id": "YAMcC0LgHp7N"
      },
      "source": [
        ""
      ],
      "execution_count": null,
      "outputs": []
    }
  ]
}