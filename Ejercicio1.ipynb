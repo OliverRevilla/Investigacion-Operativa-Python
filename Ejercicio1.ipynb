{
  "nbformat": 4,
  "nbformat_minor": 0,
  "metadata": {
    "colab": {
      "name": "Ejercicio1.ipynb",
      "provenance": []
    },
    "kernelspec": {
      "name": "python3",
      "display_name": "Python 3"
    }
  },
  "cells": [
    {
      "cell_type": "code",
      "metadata": {
        "id": "NAK_eXfy9o8r",
        "colab": {
          "base_uri": "https://localhost:8080/",
          "height": 306
        },
        "outputId": "976cd43a-06c7-4d1d-dd92-c7d003a95147"
      },
      "source": [
        "pip install pulp\n"
      ],
      "execution_count": null,
      "outputs": [
        {
          "output_type": "stream",
          "text": [
            "Collecting pulp\n",
            "\u001b[?25l  Downloading https://files.pythonhosted.org/packages/c3/22/5743d7b5d69f84fb63a0b4925862522dbf80e82defcd0c447afb694f3fd0/PuLP-2.3-py3-none-any.whl (40.6MB)\n",
            "\u001b[K     |████████████████████████████████| 40.6MB 103kB/s \n",
            "\u001b[?25hCollecting amply>=0.1.2\n",
            "  Downloading https://files.pythonhosted.org/packages/7f/11/33cb09557ac838d9488779b79e05a2a3c1f3ce9747cd242ba68332736778/amply-0.1.2.tar.gz\n",
            "  Installing build dependencies ... \u001b[?25l\u001b[?25hdone\n",
            "  Getting requirements to build wheel ... \u001b[?25l\u001b[?25hdone\n",
            "    Preparing wheel metadata ... \u001b[?25l\u001b[?25hdone\n",
            "Requirement already satisfied: docutils>=0.3 in /usr/local/lib/python3.6/dist-packages (from amply>=0.1.2->pulp) (0.15.2)\n",
            "Requirement already satisfied: pyparsing in /usr/local/lib/python3.6/dist-packages (from amply>=0.1.2->pulp) (2.4.7)\n",
            "Building wheels for collected packages: amply\n",
            "  Building wheel for amply (PEP 517) ... \u001b[?25l\u001b[?25hdone\n",
            "  Created wheel for amply: filename=amply-0.1.2-cp36-none-any.whl size=16573 sha256=6a0a1a8f6b5ea3ef10d35fa5b0b0194be8d364fd9a97a9961f0febb8fd1172d8\n",
            "  Stored in directory: /root/.cache/pip/wheels/84/18/f7/e5c3ed13ed5bb721763f77d4a924331d59ef115ce61c9d26eb\n",
            "Successfully built amply\n",
            "Installing collected packages: amply, pulp\n",
            "Successfully installed amply-0.1.2 pulp-2.3\n"
          ],
          "name": "stdout"
        }
      ]
    },
    {
      "cell_type": "code",
      "metadata": {
        "id": "I8jZggjU903t"
      },
      "source": [
        "from pulp import *"
      ],
      "execution_count": null,
      "outputs": []
    },
    {
      "cell_type": "code",
      "metadata": {
        "id": "oS1JSduz-ULl"
      },
      "source": [
        "modelo = LpProblem(\"Problema1\", LpMaximize)\n"
      ],
      "execution_count": null,
      "outputs": []
    },
    {
      "cell_type": "markdown",
      "metadata": {
        "id": "TaVhnD1D-0Z3"
      },
      "source": [
        "Definición de variables\n"
      ]
    },
    {
      "cell_type": "code",
      "metadata": {
        "id": "gWoG_Bw_-5JU"
      },
      "source": [
        "X1 = LpVariable(\"X1\", lowBound= 0, cat = 'Integer')\n",
        "X2 = LpVariable(\"X2\", lowBound= 0, cat = 'Integer')\n",
        "X3 = LpVariable(\"X3\", lowBound= 0, cat = 'Integer')"
      ],
      "execution_count": null,
      "outputs": []
    },
    {
      "cell_type": "markdown",
      "metadata": {
        "id": "wA_7EIDT_RdW"
      },
      "source": [
        "Función objetivo"
      ]
    },
    {
      "cell_type": "code",
      "metadata": {
        "id": "GglBq3xY_QYV"
      },
      "source": [
        "modelo += 6*X1 + 3*X2 + 4*X3"
      ],
      "execution_count": null,
      "outputs": []
    },
    {
      "cell_type": "markdown",
      "metadata": {
        "id": "FeEh5fHd_jyc"
      },
      "source": [
        "Restricciones"
      ]
    },
    {
      "cell_type": "code",
      "metadata": {
        "id": "AOqjD8I8_iFR"
      },
      "source": [
        "modelo += X1 >= 80\n",
        "modelo += X2 + X3 <= 2*X1\n",
        "modelo += 2*X1 + 4*X2 + X3 <= 720\n",
        "modelo += 4*X1 + 4*X2 + 3*X3 <= 880\n"
      ],
      "execution_count": null,
      "outputs": []
    },
    {
      "cell_type": "markdown",
      "metadata": {
        "id": "kMlZAEErANCg"
      },
      "source": [
        "Resolver\n"
      ]
    },
    {
      "cell_type": "code",
      "metadata": {
        "id": "UKY3VKz4ARMY",
        "colab": {
          "base_uri": "https://localhost:8080/",
          "height": 34
        },
        "outputId": "15cc068f-42f3-4334-b592-3679f2874aae"
      },
      "source": [
        "modelo.solve()"
      ],
      "execution_count": null,
      "outputs": [
        {
          "output_type": "execute_result",
          "data": {
            "text/plain": [
              "1"
            ]
          },
          "metadata": {
            "tags": []
          },
          "execution_count": 16
        }
      ]
    },
    {
      "cell_type": "code",
      "metadata": {
        "id": "g4D_aSQZATlo",
        "colab": {
          "base_uri": "https://localhost:8080/",
          "height": 68
        },
        "outputId": "de25c52b-d5bc-481d-984c-a57060eef823"
      },
      "source": [
        "print(\"Producir {} Escritorios\".format(X1.varValue))\n",
        "print(\"Producir {} Estantes\".format(X2.varValue))\n",
        "print(\"Producir {} Mesas\".format(X3.varValue))"
      ],
      "execution_count": null,
      "outputs": [
        {
          "output_type": "stream",
          "text": [
            "Producir 220.0 Escritorios\n",
            "Producir 0.0 Estantes\n",
            "Producir 0.0 Mesas\n"
          ],
          "name": "stdout"
        }
      ]
    },
    {
      "cell_type": "code",
      "metadata": {
        "id": "7nFF6fj0BS8V"
      },
      "source": [
        ""
      ],
      "execution_count": null,
      "outputs": []
    }
  ]
}