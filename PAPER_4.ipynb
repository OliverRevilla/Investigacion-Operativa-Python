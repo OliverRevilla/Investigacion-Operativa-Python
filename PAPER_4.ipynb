{
  "nbformat": 4,
  "nbformat_minor": 0,
  "metadata": {
    "colab": {
      "name": "PAPER 4.ipynb",
      "provenance": [],
      "collapsed_sections": []
    },
    "kernelspec": {
      "name": "python3",
      "display_name": "Python 3"
    }
  },
  "cells": [
    {
      "cell_type": "code",
      "metadata": {
        "id": "bClMaKpLstGx",
        "colab": {
          "base_uri": "https://localhost:8080/"
        },
        "outputId": "857e2e9b-3527-4dde-ea9e-975f9e26439b"
      },
      "source": [
        "pip install pulp"
      ],
      "execution_count": null,
      "outputs": [
        {
          "output_type": "stream",
          "text": [
            "Collecting pulp\n",
            "\u001b[?25l  Downloading https://files.pythonhosted.org/packages/89/0c/6d80f5f81a92d1733cc5ca180491b8a3cd5839e335627a0046c81b7d3d3d/PuLP-2.3.1-py3-none-any.whl (40.6MB)\n",
            "\u001b[K     |████████████████████████████████| 40.6MB 102kB/s \n",
            "\u001b[?25hCollecting amply>=0.1.2\n",
            "  Downloading https://files.pythonhosted.org/packages/f3/c5/dfa09dd2595a2ab2ab4e6fa7bebef9565812722e1980d04b0edce5032066/amply-0.1.4-py3-none-any.whl\n",
            "Requirement already satisfied: docutils>=0.3 in /usr/local/lib/python3.6/dist-packages (from amply>=0.1.2->pulp) (0.16)\n",
            "Requirement already satisfied: pyparsing in /usr/local/lib/python3.6/dist-packages (from amply>=0.1.2->pulp) (2.4.7)\n",
            "Installing collected packages: amply, pulp\n",
            "Successfully installed amply-0.1.4 pulp-2.3.1\n"
          ],
          "name": "stdout"
        }
      ]
    },
    {
      "cell_type": "code",
      "metadata": {
        "id": "IFM8SVilv-Hp"
      },
      "source": [
        "from pulp import *\n",
        "import random"
      ],
      "execution_count": null,
      "outputs": []
    },
    {
      "cell_type": "code",
      "metadata": {
        "id": "Sdy5I5fNwEy1"
      },
      "source": [
        "modelo = LpProblem(\"Minimizar_Costo\", LpMinimize) #definicion del modelo"
      ],
      "execution_count": null,
      "outputs": []
    },
    {
      "cell_type": "code",
      "metadata": {
        "id": "0Ku-lzAI0yzj"
      },
      "source": [
        "#Definición de conjuntos\n",
        "Clientes = range(0,10) \n",
        "Depositos = range(0,2)\n",
        "Mercados = range(1,6)\n",
        "Centros_Acopio = range(1,5)\n",
        "\n",
        "T_tras=[[random.randint(10,30) for col in range(1,11)] for row in range(1,11)]\n",
        "\n",
        "#Funcion para obtener distancias\n",
        "def get_dist(a,b):\n",
        "  return ((a[0]-b[0])**2+(a[1]-b[1])**2)**0.5   \n",
        "\n",
        "#Coordenadas de los lugares\n",
        "plantas=[(65,60),(2,70),(20,55),(30,10)]\n",
        "mercados=[(5,65),(100,50),(25,15),(80,25),(95,85)]\n",
        "acopios=[(60,65),(60,45),(70,85),(65,95)]\n",
        "\n",
        "Planta_Mercado={}     \n",
        "\n",
        "for i in Plantas:\n",
        "  Planta_Mercado[i]={}\n",
        "  for j in Mercados:\n",
        "    Planta_Mercado[i][j]=(get_dist(plantas[i-1],mercados[j-1]))\n",
        "\n",
        "Mercado_Acopio={}\n",
        "for i in Mercados:\n",
        "  Mercado_Acopio[i]={}\n",
        "  for j in Centros_Acopio:\n",
        "    Mercado_Acopio[i][j]=(get_dist(mercados[i-1],acopios[j-1]))\n",
        "\n",
        "Planta_Acopio={}\n",
        "for i in Plantas:\n",
        "  Planta_Acopio[i]={}\n",
        "  for j in Centros_Acopio:\n",
        "    Planta_Acopio[i][j]=(get_dist(plantas[i-1],acopios[j-1]))\n",
        "    \n",
        "Acopio_desecho={}\n",
        "for i in Centros_Acopio:\n",
        "  Acopio_desecho[i]=(get_dist(acopios[i-1],(25,35)))\n",
        "\n"
      ],
      "execution_count": null,
      "outputs": []
    },
    {
      "cell_type": "code",
      "metadata": {
        "id": "B-ZUFGYUwfMF"
      },
      "source": [
        "#Definición de parámetros\n",
        "#Costo de producción del producto j}\n",
        "A = {1:15,2:15,3:15}\n",
        "#Costo de transporte del producto j entre planta i y mercado k\n",
        "B = {1:0.01455, 2:0.01455, 3:0.01455}\n",
        "#Costo de transporte del producto j entre mercado k y centro de acopio l\n",
        "C = {1:0.01455, 2:0.01455, 3:0.01455}\n",
        "#Costo de transporte del producto j entre centro de acopio l y planta i\n",
        "D = {1:0.003,2:0.003,3:0.003}\n",
        "#Costo de transporte del producto j entre centro de acopio l y desechos\n",
        "O = {1:0.00155,2:0.00155,3:0.00155}\n",
        "#Costo fijo por aperturar planta i\n",
        "E = {1:5000000,2:5000000,3:5000000,4:5000000}\n",
        "#Costo fijo por aperturar centro de acopio l\n",
        "F = {1:500000,2:500000,3:500000,4:500000}\n",
        "#Costo ahorrado del producto j(producto j recuperado)\n",
        "G = {1:7,2:7,3:7}\n",
        "#Costo de enviar a desechos el producto j\n",
        "H = {1:2.5,2:2.5,3:2.5}\n",
        "#Capacidad de la planta i del producto j\n",
        "P = {1:{1:84000,2:84000,3:84000},\n",
        "     2:{1:84000,2:84000,3:84000},\n",
        "     3:{1:84000,2:84000,3:84000},\n",
        "     4:{1:84000,2:84000,3:84000}}\n",
        "#Capacidad del centro de acopio l\n",
        "Q = {1:{1:34000,2:34000,3:34000},\n",
        "     2:{1:34000,2:34000,3:34000},\n",
        "     3:{1:34000,2:34000,3:34000},\n",
        "     4:{1:34000,2:34000,3:34000}}\n",
        "#Demanda en el mercado K del producto j\n",
        "d = {1:{1:30000,2:30000,3:30000},\n",
        "     2:{1:30000,2:30000,3:30000},\n",
        "     3:{1:30000,2:30000,3:30000},\n",
        "     4:{1:30000,2:30000,3:30000},\n",
        "     5:{1:30000,2:30000,3:30000},\n",
        "     6:{1:30000,2:30000,3:30000}}\n",
        "#Productos devueltos por el mercado k\n",
        "r = {1:{1:10000,2:10000,3:10000},\n",
        "     2:{1:10000,2:10000,3:10000},\n",
        "     3:{1:10000,2:10000,3:10000},\n",
        "     4:{1:10000,2:10000,3:10000},\n",
        "     5:{1:10000,2:10000,3:10000},\n",
        "     6:{1:10000,2:10000,3:10000}}\n",
        "     \n",
        "#Fracción de desecho del producto j\n",
        "import random\n",
        "alfa = {1:(random.uniform(0.27, 0.33)),2: (random.uniform(0.27, 0.33)), 3:(random.uniform(0.27, 0.33))}\n",
        "\n"
      ],
      "execution_count": null,
      "outputs": []
    },
    {
      "cell_type": "code",
      "metadata": {
        "id": "uxE0DpFStfMR"
      },
      "source": [
        "#Definición de variables\n",
        "\n",
        "x = LpVariable.dicts(\"x\",(Plantas,Mercados,Productos), lowBound= 0, cat = 'Integer') # Cantidad del producto j producido por la planta i para el mercado k\n",
        "y = LpVariable.dicts(\"y\",(Mercados,Centros_Acopio,Productos), lowBound = 0, cat = 'Integer') #Cantidad del producto j devuelto por el mercado k al centro de acopio l\n",
        "s = LpVariable.dicts(\"s\",(Centros_Acopio,Plantas,Productos), lowBound = 0, cat = 'Integer') #Cantidad del producto j devuelto por el centro de acopio l a la planta i\n",
        "t = LpVariable.dicts(\"t\",(Centros_Acopio,Productos), lowBound = 0, cat = 'Integer') #Cantidad del producto j enviado por el centro de acopio l a desechos\n",
        "z = LpVariable.dicts(\"z\",(Plantas), cat = 'Binary') #Si se ubica la planta 1 sino 0\n",
        "w = LpVariable.dicts(\"w\", (Centros_Acopio), cat = 'Binary') #Si se ubica el centro de acopio 1 sino 0\n",
        "\n"
      ],
      "execution_count": null,
      "outputs": []
    },
    {
      "cell_type": "code",
      "metadata": {
        "id": "6oq3YjRz1QFK"
      },
      "source": [
        "  #Función Objetivo\n",
        "\n",
        "modelo += lpSum(E[i]*z[i] for i in Plantas) + lpSum(F[l]*w[l] for l in Centros_Acopio)+lpSum(lpSum(lpSum((A[j]+B[j]*Planta_Mercado[i][k])*x[i][k][j] for j in Productos) for k in Mercados) for i in Plantas)+lpSum(lpSum(lpSum((C[j]*Mercado_Acopio[k][l])*y[k][l][j] for j in Productos) for l in Centros_Acopio) for k in Mercados) + lpSum(lpSum(lpSum((-G[j]+D[j]*Planta_Acopio[i][l])*s[l][i][j] for j in Productos) for i in Plantas) for l in Centros_Acopio) + lpSum(lpSum((H[j] + O[j]*Acopio_desecho[l])*t[l][j] for j in Productos) for l in Centros_Acopio)\n"
      ],
      "execution_count": null,
      "outputs": []
    },
    {
      "cell_type": "code",
      "metadata": {
        "id": "vGnv4FSM1TtL"
      },
      "source": [
        "#Restricciones\n",
        "\n",
        "#Asegurar la satisfacción de la demanda\n",
        "for k in Mercados:\n",
        "  for j in Productos:\n",
        "    modelo += lpSum(x[i][k][j] for i in Plantas) >= d[k][j]\n",
        "#Restricción de la capacidad de Planta\n",
        "for i in Plantas:\n",
        "  modelo += lpSum(lpSum(s[l][i][j] for j in Productos)for l in Centros_Acopio) + lpSum(lpSum(x[i][k][j] for j in Productos)for k in Mercados) <= z[i]*lpSum(P[i][j] for j in Productos)\n",
        "#Restricción de fracción de productos devueltos\n",
        "for k in Mercados:\n",
        "  for j in Productos:\n",
        "    modelo += lpSum(y[k][l][j] for l in Centros_Acopio) <= lpSum(x[i][k][j] for i in Plantas)\n",
        "#Restricción de mínima fracción de producto devuelto\n",
        "for l in Centros_Acopio:\n",
        "  for j in Productos:\n",
        "    modelo += alfa[j]*lpSum(y[k][l][j] for k in Mercados) <= t[l][j]\n",
        "#Restricción de capacidad del centro de acopio\n",
        "for l in Centros_Acopio:\n",
        "  modelo += lpSum(lpSum(y[k][l][j] for j in Productos) for k in Mercados)<= w[l]*lpSum(Q[l][j] for j in Productos)\n",
        "#Restricción del total de producto devuelto\n",
        "for l in Centros_Acopio:\n",
        "  for j in Productos:\n",
        "    modelo += lpSum(y[k][l][j] for k in Mercados) == lpSum(s[l][i][j] for i in Plantas) + t[l][j]\n",
        "#Restricción de cantidad de productos devueltos\n",
        "for k in Mercados:\n",
        "  for j in Productos:\n",
        "    modelo += lpSum(y[k][l][j] for l in Centros_Acopio) == r[k][j]\n",
        "\n"
      ],
      "execution_count": null,
      "outputs": []
    },
    {
      "cell_type": "code",
      "metadata": {
        "id": "K0cMZEVH2MUM",
        "colab": {
          "base_uri": "https://localhost:8080/",
          "height": 34
        },
        "outputId": "1e622adf-93a5-48de-faa5-42c989bcb359"
      },
      "source": [
        "modelo.solve()\n"
      ],
      "execution_count": null,
      "outputs": [
        {
          "output_type": "execute_result",
          "data": {
            "text/plain": [
              "1"
            ]
          },
          "metadata": {
            "tags": []
          },
          "execution_count": 9
        }
      ]
    },
    {
      "cell_type": "code",
      "metadata": {
        "id": "phqjuDHYWVFO",
        "colab": {
          "base_uri": "https://localhost:8080/",
          "height": 809
        },
        "outputId": "ba9052ce-e07c-4252-c70e-b12d433392a6"
      },
      "source": [
        "for v in modelo.variables():\n",
        "  if v.varValue > 0:\n",
        "    print(v.name, \"=\", v.varValue)"
      ],
      "execution_count": null,
      "outputs": [
        {
          "output_type": "stream",
          "text": [
            "s_2_3_1 = 20123.0\n",
            "s_2_3_2 = 22295.0\n",
            "s_2_3_3 = 11582.0\n",
            "t_2_1 = 9877.0\n",
            "t_2_2 = 9705.0\n",
            "t_2_3 = 28418.0\n",
            "t_3_1 = 20000.0\n",
            "t_3_2 = 18000.0\n",
            "t_3_3 = 10000.0\n",
            "w_2 = 1.0\n",
            "w_3 = 1.0\n",
            "x_1_2_1 = 30000.0\n",
            "x_1_2_2 = 30000.0\n",
            "x_1_2_3 = 30000.0\n",
            "x_1_4_1 = 30000.0\n",
            "x_1_4_2 = 30000.0\n",
            "x_1_4_3 = 12000.0\n",
            "x_1_5_1 = 30000.0\n",
            "x_1_5_2 = 30000.0\n",
            "x_1_5_3 = 30000.0\n",
            "x_3_1_1 = 30000.0\n",
            "x_3_1_2 = 30000.0\n",
            "x_3_1_3 = 30000.0\n",
            "x_3_3_1 = 30000.0\n",
            "x_3_3_2 = 30000.0\n",
            "x_3_3_3 = 30000.0\n",
            "x_3_4_3 = 18000.0\n",
            "y_1_2_1 = 10000.0\n",
            "y_1_2_2 = 10000.0\n",
            "y_1_2_3 = 10000.0\n",
            "y_2_2_2 = 2000.0\n",
            "y_2_2_3 = 10000.0\n",
            "y_2_3_1 = 10000.0\n",
            "y_2_3_2 = 8000.0\n",
            "y_3_2_1 = 10000.0\n",
            "y_3_2_2 = 10000.0\n",
            "y_3_2_3 = 10000.0\n",
            "y_4_2_1 = 10000.0\n",
            "y_4_2_2 = 10000.0\n",
            "y_4_2_3 = 10000.0\n",
            "y_5_3_1 = 10000.0\n",
            "y_5_3_2 = 10000.0\n",
            "y_5_3_3 = 10000.0\n",
            "z_1 = 1.0\n",
            "z_3 = 1.0\n"
          ],
          "name": "stdout"
        }
      ]
    },
    {
      "cell_type": "code",
      "metadata": {
        "id": "atI8-QqAWaln"
      },
      "source": [
        ""
      ],
      "execution_count": null,
      "outputs": []
    }
  ]
}