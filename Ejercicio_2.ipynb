{
  "nbformat": 4,
  "nbformat_minor": 0,
  "metadata": {
    "colab": {
      "name": "Ejercicio 2.ipynb",
      "provenance": []
    },
    "kernelspec": {
      "name": "python3",
      "display_name": "Python 3"
    }
  },
  "cells": [
    {
      "cell_type": "code",
      "metadata": {
        "id": "P29DAbSTCnZH"
      },
      "source": [
        ""
      ],
      "execution_count": null,
      "outputs": []
    },
    {
      "cell_type": "markdown",
      "metadata": {
        "id": "Qpa04IsQFCRd"
      },
      "source": [
        "Una universidad estatal tiene que comprar 1100 computadoras de tres vendedores. El vendedor 1 cobra 500 UM por computadora más un cargo por la entrega de 5000 UM. El vendedor 2 cobra 350 UM por una computadora más un cargo por la entrega de 4000 UM. El vendedor 3 cobra 250 UM por computadora más un cargo por la entrega de 6000 UM.\n",
        "El vendedor 1 venderá a la universidad a lo mucho 500 computadoras, el vendedor 2 cuando mucho 900 y el vendedor 3 como máximo 400.\n",
        "Plantee un problema de programación entera para minimizar el costo de compra de computadoras."
      ]
    },
    {
      "cell_type": "code",
      "metadata": {
        "id": "Xp_cF2YaGO2F",
        "colab": {
          "base_uri": "https://localhost:8080/",
          "height": 306
        },
        "outputId": "1d75298a-d555-4c51-ecfa-5bb6ae687ba3"
      },
      "source": [
        "pip install pulp"
      ],
      "execution_count": null,
      "outputs": [
        {
          "output_type": "stream",
          "text": [
            "Collecting pulp\n",
            "\u001b[?25l  Downloading https://files.pythonhosted.org/packages/c3/22/5743d7b5d69f84fb63a0b4925862522dbf80e82defcd0c447afb694f3fd0/PuLP-2.3-py3-none-any.whl (40.6MB)\n",
            "\u001b[K     |████████████████████████████████| 40.6MB 92kB/s \n",
            "\u001b[?25hCollecting amply>=0.1.2\n",
            "  Downloading https://files.pythonhosted.org/packages/7f/11/33cb09557ac838d9488779b79e05a2a3c1f3ce9747cd242ba68332736778/amply-0.1.2.tar.gz\n",
            "  Installing build dependencies ... \u001b[?25l\u001b[?25hdone\n",
            "  Getting requirements to build wheel ... \u001b[?25l\u001b[?25hdone\n",
            "    Preparing wheel metadata ... \u001b[?25l\u001b[?25hdone\n",
            "Requirement already satisfied: pyparsing in /usr/local/lib/python3.6/dist-packages (from amply>=0.1.2->pulp) (2.4.7)\n",
            "Requirement already satisfied: docutils>=0.3 in /usr/local/lib/python3.6/dist-packages (from amply>=0.1.2->pulp) (0.15.2)\n",
            "Building wheels for collected packages: amply\n",
            "  Building wheel for amply (PEP 517) ... \u001b[?25l\u001b[?25hdone\n",
            "  Created wheel for amply: filename=amply-0.1.2-cp36-none-any.whl size=16573 sha256=754ac6a2bd71daee4acdb5a2a2f9fb88d2b87cb7ae1df8e395548962b361bdd3\n",
            "  Stored in directory: /root/.cache/pip/wheels/84/18/f7/e5c3ed13ed5bb721763f77d4a924331d59ef115ce61c9d26eb\n",
            "Successfully built amply\n",
            "Installing collected packages: amply, pulp\n",
            "Successfully installed amply-0.1.2 pulp-2.3\n"
          ],
          "name": "stdout"
        }
      ]
    },
    {
      "cell_type": "code",
      "metadata": {
        "id": "BAZYTHeWGuFg"
      },
      "source": [
        "from pulp import *"
      ],
      "execution_count": null,
      "outputs": []
    },
    {
      "cell_type": "code",
      "metadata": {
        "id": "VXG5SdcQG9Ir"
      },
      "source": [
        "modelo = LpProblem(\"Problema2\", LpMinimize )\n"
      ],
      "execution_count": null,
      "outputs": []
    },
    {
      "cell_type": "markdown",
      "metadata": {
        "id": "OmAvqm8_HsRW"
      },
      "source": [
        "Variables"
      ]
    },
    {
      "cell_type": "code",
      "metadata": {
        "id": "Uo16cz4VHua5"
      },
      "source": [
        "X1 = LpVariable(\"X1\",lowBound = 0, cat = 'Integer')\n",
        "X2 = LpVariable(\"X2\",lowBound = 0, cat = 'Integer')\n",
        "X3 = LpVariable(\"X3\",lowBound = 0, cat = 'Integer')\n",
        "Y1 = LpVariable(\"Y1\",cat = 'Binary')\n",
        "Y2 = LpVariable(\"Y2\",cat = 'Binary')\n",
        "Y3 = LpVariable(\"Y3\",cat = 'Binary')"
      ],
      "execution_count": null,
      "outputs": []
    },
    {
      "cell_type": "markdown",
      "metadata": {
        "id": "9DWK78WeI2s8"
      },
      "source": [
        "Restricciones"
      ]
    },
    {
      "cell_type": "code",
      "metadata": {
        "id": "HB1i8lUtI5xX"
      },
      "source": [
        "modelo += X1 <= 500*Y1\n",
        "modelo += X2 <= 900*Y2\n",
        "modelo += X3 <= 400*Y3\n",
        "modelo += X1 + X2 + X3 == 1100"
      ],
      "execution_count": null,
      "outputs": []
    },
    {
      "cell_type": "markdown",
      "metadata": {
        "id": "GpemdrpMKoZe"
      },
      "source": [
        "Función Objetivo"
      ]
    },
    {
      "cell_type": "code",
      "metadata": {
        "id": "Kowr-SZoKp7D"
      },
      "source": [
        "modelo += 500*X1 + 350*X2 + 250*X3 + 5000*Y1 + 4000*Y2 + 6000*Y3 "
      ],
      "execution_count": null,
      "outputs": []
    },
    {
      "cell_type": "code",
      "metadata": {
        "id": "tr2sKedHLDlb",
        "colab": {
          "base_uri": "https://localhost:8080/",
          "height": 34
        },
        "outputId": "fe156a04-748e-43ca-cbd5-89da799d64c1"
      },
      "source": [
        "modelo.solve()"
      ],
      "execution_count": null,
      "outputs": [
        {
          "output_type": "execute_result",
          "data": {
            "text/plain": [
              "1"
            ]
          },
          "metadata": {
            "tags": []
          },
          "execution_count": 22
        }
      ]
    },
    {
      "cell_type": "code",
      "metadata": {
        "id": "8eLq-5E0LJez",
        "colab": {
          "base_uri": "https://localhost:8080/",
          "height": 119
        },
        "outputId": "a4a3fbd5-c562-47ec-e348-7da88d4609e7"
      },
      "source": [
        "print('Cantidad de computadoras compradas al vendedor 1 = {}'. format(X1.varValue))\n",
        "print('Cantidad de computadoras compradas al vendedor 2 = {}'. format(X2.varValue))\n",
        "print('Cantidad de computadoras compradas al vendedor 3 = {}'. format(X3.varValue))\n",
        "print('Decisión de comprar al vendedor 1 = {}'. format(Y1.varValue))\n",
        "print('Decisión de comprar al vendedor 2 = {}'. format(Y2.varValue))\n",
        "print('Decisión de comprar al vendedor 3 = {}'. format(Y3.varValue))"
      ],
      "execution_count": null,
      "outputs": [
        {
          "output_type": "stream",
          "text": [
            "Cantidad de computadoras compradas al vendedor 1 = 0.0\n",
            "Cantidad de computadoras compradas al vendedor 2 = 700.0\n",
            "Cantidad de computadoras compradas al vendedor 3 = 400.0\n",
            "Decisión de comprar al vendedor 1 = 0.0\n",
            "Decisión de comprar al vendedor 2 = 1.0\n",
            "Decisión de comprar al vendedor 3 = 1.0\n"
          ],
          "name": "stdout"
        }
      ]
    },
    {
      "cell_type": "code",
      "metadata": {
        "id": "KVG_SZRCRam3"
      },
      "source": [
        ""
      ],
      "execution_count": null,
      "outputs": []
    }
  ]
}