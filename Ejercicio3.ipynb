{
  "nbformat": 4,
  "nbformat_minor": 0,
  "metadata": {
    "colab": {
      "name": "Ejercicio3.ipynb",
      "provenance": []
    },
    "kernelspec": {
      "name": "python3",
      "display_name": "Python 3"
    }
  },
  "cells": [
    {
      "cell_type": "markdown",
      "metadata": {
        "id": "PIU2FdMZeAQJ"
      },
      "source": [
        "Un granjero cría cerdos para la venta y desea determinar que cantidades de los distintos tipos de alimentos debe dar a cada cerdo para cumplir con ciertos requisitos nutricionales.\n",
        "El contenido de cada clase de ingrediente en un kilogramo de alimento, junto con los requisitos nutricionales diarios y costos se muestran a continuación.\n",
        "....\n",
        "Plantee un problema de PL adecuado a esta situación.\n"
      ]
    },
    {
      "cell_type": "code",
      "metadata": {
        "id": "-zAMsIAXemhk",
        "colab": {
          "base_uri": "https://localhost:8080/",
          "height": 306
        },
        "outputId": "102346ca-f3fb-4523-a080-463e5833aeb3"
      },
      "source": [
        "pip install pulp "
      ],
      "execution_count": null,
      "outputs": [
        {
          "output_type": "stream",
          "text": [
            "Collecting pulp\n",
            "\u001b[?25l  Downloading https://files.pythonhosted.org/packages/c3/22/5743d7b5d69f84fb63a0b4925862522dbf80e82defcd0c447afb694f3fd0/PuLP-2.3-py3-none-any.whl (40.6MB)\n",
            "\u001b[K     |████████████████████████████████| 40.6MB 97kB/s \n",
            "\u001b[?25hCollecting amply>=0.1.2\n",
            "  Downloading https://files.pythonhosted.org/packages/7f/11/33cb09557ac838d9488779b79e05a2a3c1f3ce9747cd242ba68332736778/amply-0.1.2.tar.gz\n",
            "  Installing build dependencies ... \u001b[?25l\u001b[?25hdone\n",
            "  Getting requirements to build wheel ... \u001b[?25l\u001b[?25hdone\n",
            "    Preparing wheel metadata ... \u001b[?25l\u001b[?25hdone\n",
            "Requirement already satisfied: docutils>=0.3 in /usr/local/lib/python3.6/dist-packages (from amply>=0.1.2->pulp) (0.15.2)\n",
            "Requirement already satisfied: pyparsing in /usr/local/lib/python3.6/dist-packages (from amply>=0.1.2->pulp) (2.4.7)\n",
            "Building wheels for collected packages: amply\n",
            "  Building wheel for amply (PEP 517) ... \u001b[?25l\u001b[?25hdone\n",
            "  Created wheel for amply: filename=amply-0.1.2-cp36-none-any.whl size=16573 sha256=3434b0f193f94aeadfd79daf30aec32116ee3d9ddf873842ebb8e269e4699d9c\n",
            "  Stored in directory: /root/.cache/pip/wheels/84/18/f7/e5c3ed13ed5bb721763f77d4a924331d59ef115ce61c9d26eb\n",
            "Successfully built amply\n",
            "Installing collected packages: amply, pulp\n",
            "Successfully installed amply-0.1.2 pulp-2.3\n"
          ],
          "name": "stdout"
        }
      ]
    },
    {
      "cell_type": "code",
      "metadata": {
        "id": "UmIBebR6eqGV"
      },
      "source": [
        "from pulp import *"
      ],
      "execution_count": null,
      "outputs": []
    },
    {
      "cell_type": "markdown",
      "metadata": {
        "id": "TuSY7-8yg4KJ"
      },
      "source": [
        "Modelo"
      ]
    },
    {
      "cell_type": "code",
      "metadata": {
        "id": "BGxwOLLdg6A1"
      },
      "source": [
        "modelo = LpProblem(\"Problema3\", LpMinimize)"
      ],
      "execution_count": null,
      "outputs": []
    },
    {
      "cell_type": "markdown",
      "metadata": {
        "id": "m0fwMQKMhMDE"
      },
      "source": [
        "Variables"
      ]
    },
    {
      "cell_type": "code",
      "metadata": {
        "id": "V_Ri3MOYhQDV"
      },
      "source": [
        "X1 = LpVariable(\"X1\",lowBound= 0, cat = 'Continuous') # Cantidad de Kg de maíz\n",
        "X2 = LpVariable(\"X2\",lowBound = 0, cat = 'Continuous') # Cantidad de Kg de alimento\n",
        "X3 = LpVariable(\"X3\",lowBound= 0, cat = 'Continuous') # Cantidad de kg de Alfalfa"
      ],
      "execution_count": null,
      "outputs": []
    },
    {
      "cell_type": "markdown",
      "metadata": {
        "id": "3pLgwxQRiT3u"
      },
      "source": [
        "Función objetivo"
      ]
    },
    {
      "cell_type": "code",
      "metadata": {
        "id": "xKQPFv6jh93u"
      },
      "source": [
        "modelo += 42*X1 + 36*X2 + 30*X3"
      ],
      "execution_count": null,
      "outputs": []
    },
    {
      "cell_type": "markdown",
      "metadata": {
        "id": "YhBWe_-Pigjg"
      },
      "source": [
        "Restrcciones"
      ]
    },
    {
      "cell_type": "code",
      "metadata": {
        "id": "k4Qr2ih1imyZ"
      },
      "source": [
        "modelo += 90*X1 + 20*X2 + 40*X3 >= 200\n",
        "modelo += 30*X1 + 80*X2 + 60*X3 >= 180\n",
        "modelo += 10*X1 + 20*X2 + 60*X3 >= 150"
      ],
      "execution_count": null,
      "outputs": []
    },
    {
      "cell_type": "code",
      "metadata": {
        "id": "oWwIz2KhjGsV",
        "colab": {
          "base_uri": "https://localhost:8080/",
          "height": 34
        },
        "outputId": "e9046fe1-9c51-4d94-dae3-ad5be92c3b15"
      },
      "source": [
        "modelo.solve()"
      ],
      "execution_count": null,
      "outputs": [
        {
          "output_type": "execute_result",
          "data": {
            "text/plain": [
              "1"
            ]
          },
          "metadata": {
            "tags": []
          },
          "execution_count": 9
        }
      ]
    },
    {
      "cell_type": "code",
      "metadata": {
        "id": "SUyIPOCRjJQj",
        "colab": {
          "base_uri": "https://localhost:8080/",
          "height": 68
        },
        "outputId": "12ac47c4-7594-44c6-bf82-1cb7117ffa0b"
      },
      "source": [
        "print (value(X1))\n",
        "print (value(X2))\n",
        "print (value(X3))"
      ],
      "execution_count": null,
      "outputs": [
        {
          "output_type": "stream",
          "text": [
            "1.1428571\n",
            "0.0\n",
            "2.4285714\n"
          ],
          "name": "stdout"
        }
      ]
    },
    {
      "cell_type": "code",
      "metadata": {
        "id": "v5beUR7JjgJQ"
      },
      "source": [
        ""
      ],
      "execution_count": null,
      "outputs": []
    }
  ]
}