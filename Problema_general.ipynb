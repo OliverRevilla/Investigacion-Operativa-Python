{
  "nbformat": 4,
  "nbformat_minor": 0,
  "metadata": {
    "colab": {
      "name": "Problema general.ipynb",
      "provenance": []
    },
    "kernelspec": {
      "name": "python3",
      "display_name": "Python 3"
    }
  },
  "cells": [
    {
      "cell_type": "code",
      "metadata": {
        "id": "_R6A3FrjC2c9",
        "colab": {
          "base_uri": "https://localhost:8080/"
        },
        "outputId": "e33c734d-f52d-4f62-babf-96d582b2c394"
      },
      "source": [
        "pip install pulp\n"
      ],
      "execution_count": null,
      "outputs": [
        {
          "output_type": "stream",
          "text": [
            "Collecting pulp\n",
            "\u001b[?25l  Downloading https://files.pythonhosted.org/packages/14/c4/0eec14a0123209c261de6ff154ef3be5cad3fd557c084f468356662e0585/PuLP-2.4-py3-none-any.whl (40.6MB)\n",
            "\u001b[K     |████████████████████████████████| 40.6MB 104kB/s \n",
            "\u001b[?25hCollecting amply>=0.1.2\n",
            "  Downloading https://files.pythonhosted.org/packages/f3/c5/dfa09dd2595a2ab2ab4e6fa7bebef9565812722e1980d04b0edce5032066/amply-0.1.4-py3-none-any.whl\n",
            "Requirement already satisfied: docutils>=0.3 in /usr/local/lib/python3.6/dist-packages (from amply>=0.1.2->pulp) (0.16)\n",
            "Requirement already satisfied: pyparsing in /usr/local/lib/python3.6/dist-packages (from amply>=0.1.2->pulp) (2.4.7)\n",
            "Installing collected packages: amply, pulp\n",
            "Successfully installed amply-0.1.4 pulp-2.4\n"
          ],
          "name": "stdout"
        }
      ]
    },
    {
      "cell_type": "code",
      "metadata": {
        "id": "Q68b6cFODUiJ"
      },
      "source": [
        "from pulp import *"
      ],
      "execution_count": null,
      "outputs": []
    },
    {
      "cell_type": "code",
      "metadata": {
        "id": "HMfOkzebGL-f"
      },
      "source": [
        "modelo = LpProblem(\"ProblemaMRP\", LpMinimize )"
      ],
      "execution_count": null,
      "outputs": []
    },
    {
      "cell_type": "code",
      "metadata": {
        "id": "ZyZWqixsG1Sp",
        "colab": {
          "base_uri": "https://localhost:8080/",
          "height": 408
        },
        "outputId": "08f29604-3342-4a1e-ba51-13b974f082a7"
      },
      "source": [
        "#Definición de conjuntos\n",
        "Items = range(1,5) # Hay 4 materias, item 1: Producto final, item 2: A, item 3: B, item 4: C\n",
        "Periodos = range(-4,6)\n",
        "Centros_Trabajo = range(1,5) # \n",
        "\n",
        "#Definición de parámetros\n",
        "#Demanda del producto i en el periodo t >= 0\n",
        "d = {1:{0:15,1:25,2:40,3:40,4:20,5:20},\n",
        "     2:{0:15,1:25,2:40,3:40,4:20,5:20},\n",
        "     3:{0:15,1:25,2:40,3:40,4:20,5:20},\n",
        "     4:{0:15,1:25,2:40,3:40,4:20,5:20}}\n",
        "#Tiempo unitario de operacion del item i en la estación k\n",
        "#Estación 1: Corte\n",
        "#Estación 2: Transferencia\n",
        "#Estación 3: Ensamble\n",
        "#Estación 4: Pintado\n",
        "alfa = {1:1.5,2:0, 3:0.5,4:2.5}\n",
        "#Tiempo de setup de la estación k\n",
        "beta = {1:25,2:20,3:10,4:30}\n",
        "#Tiempo máximo de trabajo en cada estación\n",
        "L = {1:480,2:480,3:960,4:480}\n",
        "#Tiempo de entrega\n",
        "#item 1: PF\n",
        "#item 2: A\n",
        "#item 3: B\n",
        "#item 4: C\n",
        "gamma = {1:0,2:2,3:1,4:2}\n",
        "#Relación entre items i,j\n",
        "r = {1:{1:0,2:0,3:0,4:0},\n",
        "     2:{1:1,2:0,3:0,4:0},\n",
        "     3:{1:0,2:2,3:0,4:0},\n",
        "     4:{1:1,2:3,3:0,4:0}}\n",
        "\n",
        "#M grande\n",
        "M = 100000\n",
        "\n",
        "#Definición de variables\n",
        "x = LpVariable.dicts(\"x\",(Items,Periodos), lowBound= 0, cat ='Integer')\n",
        "s = LpVariable.dicts(\"s\",(Items,Periodos), lowBound= 0, cat ='Integer')\n",
        "y = LpVariable.dicts(\"y\",(Items,Periodos), cat ='Binary')\n",
        "\n",
        "#Función Objetivo\n",
        "modelo += lpSum(100*x[1][t] + 0.5*s[1][t] + 30*y[2][t] for t in Periodos)\n",
        "\n",
        "#Restricciones\n",
        "for t in Periodos:\n",
        "  if (t >= 0):\n",
        "    modelo += s[1][t-1] + x[1][t] ==  d[1][t] + s[1][t]\n",
        "\n",
        "for t in Periodos:\n",
        "  if ( t <= 0):\n",
        "    modelo += s[1][t] == 0 #Me debo asegurar que el nivel de inventario para t = 0 empiece desde 0\n",
        "\n",
        "for i in Items:\n",
        "  for t in Periodos:\n",
        "    if ((i >= 2) and ( t >= -2)):\n",
        "      modelo += x[i][t-gamma[i]] == lpSum(r[i][j]*x[j][t] for j in Items)\n",
        "\n",
        "for t in Periodos:\n",
        "  if (t >= -2):\n",
        "    modelo += x[2][t] <= M*y[2][t]\n",
        "\n",
        "for k in  Centros_Trabajo:\n",
        "  for t in Periodos:\n",
        "    if t>= -2:\n",
        "      modelo += alfa[k]*x[2][t] + beta[k]*y[2][t] <= L[k]\n",
        "\n",
        "modelo.solve()\n",
        "\n",
        "\n",
        "\n",
        "\n",
        "\n",
        "\n",
        "\n",
        "\n",
        "\n",
        "\n",
        "\n",
        "\n",
        "\n",
        "\n",
        "\n",
        "\n",
        "\n",
        "\n",
        "\n",
        "\n",
        "\n",
        "\n",
        "    "
      ],
      "execution_count": null,
      "outputs": [
        {
          "output_type": "stream",
          "text": [
            "/usr/local/lib/python3.6/dist-packages/pulp/pulp.py:1521: UserWarning: Overwriting previously set objective.\n",
            "  warnings.warn(\"Overwriting previously set objective.\")\n"
          ],
          "name": "stderr"
        },
        {
          "output_type": "error",
          "ename": "PulpSolverError",
          "evalue": "ignored",
          "traceback": [
            "\u001b[0;31m---------------------------------------------------------------------------\u001b[0m",
            "\u001b[0;31mPulpSolverError\u001b[0m                           Traceback (most recent call last)",
            "\u001b[0;32m<ipython-input-9-976171095124>\u001b[0m in \u001b[0;36m<module>\u001b[0;34m()\u001b[0m\n\u001b[1;32m     66\u001b[0m       \u001b[0mmodelo\u001b[0m \u001b[0;34m+=\u001b[0m \u001b[0malfa\u001b[0m\u001b[0;34m[\u001b[0m\u001b[0mk\u001b[0m\u001b[0;34m]\u001b[0m\u001b[0;34m*\u001b[0m\u001b[0mx\u001b[0m\u001b[0;34m[\u001b[0m\u001b[0;36m2\u001b[0m\u001b[0;34m]\u001b[0m\u001b[0;34m[\u001b[0m\u001b[0mt\u001b[0m\u001b[0;34m]\u001b[0m \u001b[0;34m+\u001b[0m \u001b[0mbeta\u001b[0m\u001b[0;34m[\u001b[0m\u001b[0mk\u001b[0m\u001b[0;34m]\u001b[0m\u001b[0;34m*\u001b[0m\u001b[0my\u001b[0m\u001b[0;34m[\u001b[0m\u001b[0;36m2\u001b[0m\u001b[0;34m]\u001b[0m\u001b[0;34m[\u001b[0m\u001b[0mt\u001b[0m\u001b[0;34m]\u001b[0m \u001b[0;34m<=\u001b[0m \u001b[0mL\u001b[0m\u001b[0;34m[\u001b[0m\u001b[0mk\u001b[0m\u001b[0;34m]\u001b[0m\u001b[0;34m\u001b[0m\u001b[0;34m\u001b[0m\u001b[0m\n\u001b[1;32m     67\u001b[0m \u001b[0;34m\u001b[0m\u001b[0m\n\u001b[0;32m---> 68\u001b[0;31m \u001b[0mmodelo\u001b[0m\u001b[0;34m.\u001b[0m\u001b[0msolve\u001b[0m\u001b[0;34m(\u001b[0m\u001b[0;34m)\u001b[0m\u001b[0;34m\u001b[0m\u001b[0;34m\u001b[0m\u001b[0m\n\u001b[0m\u001b[1;32m     69\u001b[0m \u001b[0;34m\u001b[0m\u001b[0m\n\u001b[1;32m     70\u001b[0m \u001b[0;34m\u001b[0m\u001b[0m\n",
            "\u001b[0;32m/usr/local/lib/python3.6/dist-packages/pulp/pulp.py\u001b[0m in \u001b[0;36msolve\u001b[0;34m(self, solver, **kwargs)\u001b[0m\n\u001b[1;32m   1888\u001b[0m         \u001b[0;31m#time it\u001b[0m\u001b[0;34m\u001b[0m\u001b[0;34m\u001b[0m\u001b[0;34m\u001b[0m\u001b[0m\n\u001b[1;32m   1889\u001b[0m         \u001b[0mself\u001b[0m\u001b[0;34m.\u001b[0m\u001b[0msolutionTime\u001b[0m \u001b[0;34m=\u001b[0m \u001b[0;34m-\u001b[0m\u001b[0mclock\u001b[0m\u001b[0;34m(\u001b[0m\u001b[0;34m)\u001b[0m\u001b[0;34m\u001b[0m\u001b[0;34m\u001b[0m\u001b[0m\n\u001b[0;32m-> 1890\u001b[0;31m         \u001b[0mstatus\u001b[0m \u001b[0;34m=\u001b[0m \u001b[0msolver\u001b[0m\u001b[0;34m.\u001b[0m\u001b[0mactualSolve\u001b[0m\u001b[0;34m(\u001b[0m\u001b[0mself\u001b[0m\u001b[0;34m,\u001b[0m \u001b[0;34m**\u001b[0m\u001b[0mkwargs\u001b[0m\u001b[0;34m)\u001b[0m\u001b[0;34m\u001b[0m\u001b[0;34m\u001b[0m\u001b[0m\n\u001b[0m\u001b[1;32m   1891\u001b[0m         \u001b[0mself\u001b[0m\u001b[0;34m.\u001b[0m\u001b[0msolutionTime\u001b[0m \u001b[0;34m+=\u001b[0m \u001b[0mclock\u001b[0m\u001b[0;34m(\u001b[0m\u001b[0;34m)\u001b[0m\u001b[0;34m\u001b[0m\u001b[0;34m\u001b[0m\u001b[0m\n\u001b[1;32m   1892\u001b[0m         \u001b[0mself\u001b[0m\u001b[0;34m.\u001b[0m\u001b[0mrestoreObjective\u001b[0m\u001b[0;34m(\u001b[0m\u001b[0mwasNone\u001b[0m\u001b[0;34m,\u001b[0m \u001b[0mdummyVar\u001b[0m\u001b[0;34m)\u001b[0m\u001b[0;34m\u001b[0m\u001b[0;34m\u001b[0m\u001b[0m\n",
            "\u001b[0;32m/usr/local/lib/python3.6/dist-packages/pulp/apis/coin_api.py\u001b[0m in \u001b[0;36mactualSolve\u001b[0;34m(self, lp, **kwargs)\u001b[0m\n\u001b[1;32m     99\u001b[0m     \u001b[0;32mdef\u001b[0m \u001b[0mactualSolve\u001b[0m\u001b[0;34m(\u001b[0m\u001b[0mself\u001b[0m\u001b[0;34m,\u001b[0m \u001b[0mlp\u001b[0m\u001b[0;34m,\u001b[0m \u001b[0;34m**\u001b[0m\u001b[0mkwargs\u001b[0m\u001b[0;34m)\u001b[0m\u001b[0;34m:\u001b[0m\u001b[0;34m\u001b[0m\u001b[0;34m\u001b[0m\u001b[0m\n\u001b[1;32m    100\u001b[0m         \u001b[0;34m\"\"\"Solve a well formulated lp problem\"\"\"\u001b[0m\u001b[0;34m\u001b[0m\u001b[0;34m\u001b[0m\u001b[0m\n\u001b[0;32m--> 101\u001b[0;31m         \u001b[0;32mreturn\u001b[0m \u001b[0mself\u001b[0m\u001b[0;34m.\u001b[0m\u001b[0msolve_CBC\u001b[0m\u001b[0;34m(\u001b[0m\u001b[0mlp\u001b[0m\u001b[0;34m,\u001b[0m \u001b[0;34m**\u001b[0m\u001b[0mkwargs\u001b[0m\u001b[0;34m)\u001b[0m\u001b[0;34m\u001b[0m\u001b[0;34m\u001b[0m\u001b[0m\n\u001b[0m\u001b[1;32m    102\u001b[0m \u001b[0;34m\u001b[0m\u001b[0m\n\u001b[1;32m    103\u001b[0m     \u001b[0;32mdef\u001b[0m \u001b[0mavailable\u001b[0m\u001b[0;34m(\u001b[0m\u001b[0mself\u001b[0m\u001b[0;34m)\u001b[0m\u001b[0;34m:\u001b[0m\u001b[0;34m\u001b[0m\u001b[0;34m\u001b[0m\u001b[0m\n",
            "\u001b[0;32m/usr/local/lib/python3.6/dist-packages/pulp/apis/coin_api.py\u001b[0m in \u001b[0;36msolve_CBC\u001b[0;34m(self, lp, use_mps)\u001b[0m\n\u001b[1;32m    157\u001b[0m             \u001b[0mpipe\u001b[0m\u001b[0;34m.\u001b[0m\u001b[0mclose\u001b[0m\u001b[0;34m(\u001b[0m\u001b[0;34m)\u001b[0m\u001b[0;34m\u001b[0m\u001b[0;34m\u001b[0m\u001b[0m\n\u001b[1;32m    158\u001b[0m         \u001b[0;32mif\u001b[0m \u001b[0;32mnot\u001b[0m \u001b[0mos\u001b[0m\u001b[0;34m.\u001b[0m\u001b[0mpath\u001b[0m\u001b[0;34m.\u001b[0m\u001b[0mexists\u001b[0m\u001b[0;34m(\u001b[0m\u001b[0mtmpSol\u001b[0m\u001b[0;34m)\u001b[0m\u001b[0;34m:\u001b[0m\u001b[0;34m\u001b[0m\u001b[0;34m\u001b[0m\u001b[0m\n\u001b[0;32m--> 159\u001b[0;31m             \u001b[0;32mraise\u001b[0m \u001b[0mPulpSolverError\u001b[0m\u001b[0;34m(\u001b[0m\u001b[0;34m\"Pulp: Error while executing \"\u001b[0m\u001b[0;34m+\u001b[0m\u001b[0mself\u001b[0m\u001b[0;34m.\u001b[0m\u001b[0mpath\u001b[0m\u001b[0;34m)\u001b[0m\u001b[0;34m\u001b[0m\u001b[0;34m\u001b[0m\u001b[0m\n\u001b[0m\u001b[1;32m    160\u001b[0m         \u001b[0mstatus\u001b[0m\u001b[0;34m,\u001b[0m \u001b[0mvalues\u001b[0m\u001b[0;34m,\u001b[0m \u001b[0mreducedCosts\u001b[0m\u001b[0;34m,\u001b[0m \u001b[0mshadowPrices\u001b[0m\u001b[0;34m,\u001b[0m \u001b[0mslacks\u001b[0m\u001b[0;34m,\u001b[0m \u001b[0msol_status\u001b[0m \u001b[0;34m=\u001b[0m\u001b[0;31m \u001b[0m\u001b[0;31m\\\u001b[0m\u001b[0;34m\u001b[0m\u001b[0;34m\u001b[0m\u001b[0m\n\u001b[1;32m    161\u001b[0m             \u001b[0mself\u001b[0m\u001b[0;34m.\u001b[0m\u001b[0mreadsol_MPS\u001b[0m\u001b[0;34m(\u001b[0m\u001b[0mtmpSol\u001b[0m\u001b[0;34m,\u001b[0m \u001b[0mlp\u001b[0m\u001b[0;34m,\u001b[0m \u001b[0mvs\u001b[0m\u001b[0;34m,\u001b[0m \u001b[0mvariablesNames\u001b[0m\u001b[0;34m,\u001b[0m \u001b[0mconstraintsNames\u001b[0m\u001b[0;34m)\u001b[0m\u001b[0;34m\u001b[0m\u001b[0;34m\u001b[0m\u001b[0m\n",
            "\u001b[0;31mPulpSolverError\u001b[0m: Pulp: Error while executing /usr/local/lib/python3.6/dist-packages/pulp/apis/../solverdir/cbc/linux/64/cbc"
          ]
        }
      ]
    },
    {
      "cell_type": "code",
      "metadata": {
        "id": "hz865e8FaqlZ"
      },
      "source": [
        ""
      ],
      "execution_count": null,
      "outputs": []
    }
  ]
}